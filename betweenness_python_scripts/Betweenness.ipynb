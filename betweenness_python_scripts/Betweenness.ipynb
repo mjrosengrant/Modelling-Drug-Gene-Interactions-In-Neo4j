{
 "cells": [
  {
   "cell_type": "code",
   "execution_count": 1,
   "metadata": {
    "collapsed": false,
    "scrolled": false
   },
   "outputs": [
    {
     "name": "stdout",
     "output_type": "stream",
     "text": [
      "7434 Nodes added to Dict from Neo4j\n",
      "0 items added to dictionary\n"
     ]
    }
   ],
   "source": [
    "from py2neo import Graph, Node, Relationship\n",
    "import pandas as pd\n",
    "\n",
    "\n",
    "def createDict():\n",
    "    graph = Graph()\n",
    "    queryResults = graph.cypher.execute(\"MATCH (n:Gene) return n\")\n",
    "    htable = {}\n",
    "    itemCount = 0\n",
    "    for node in queryResults:\n",
    "        htable[node.n.properties[\"name\"]] = node.n\n",
    "        itemCount = itemCount+1\n",
    "        \n",
    "    print str(itemCount) + \" Nodes added to Dict from Neo4j\"\n",
    "    return htable\n",
    "\n",
    "def loadBetweennessData():\n",
    "    return pd.read_csv('pc2_druggene_allnode_info.csv')\n",
    "\n",
    "def main():\n",
    "    nodeDict = createDict()#Retrieves nodes that we want betweenness values for\n",
    "    data = loadBetweennessData() #Loads all betweenness data we have\n",
    "    \n",
    "    dictToExport = {}\n",
    "    \n",
    "    itemCount = 0\n",
    "    for i in range(len(data[\"betweenness\"].index)):\n",
    "        if data[\"id\"][i] not in nodeDict or data[\"id\"][i] in dictToExport:\n",
    "            continue\n",
    "        else:\n",
    "            #Look up betweenness value from data, store the keypair in a new dict, which will be saved to a csv\n",
    "            dictToExport[ data[\"node_name\"][i] ] = data[\"betweenness\"][i]\n",
    "            itemCount = itemCount + 1\n",
    "            print data[\"node_name\"][i] + \" added to Dictionary\"\n",
    "    print str(itemCount) + \" items added to dictionary\" \n",
    "    \n",
    "    #Save dictTOExport to a CSV file\n",
    "    nodedf = pd.DataFrame(dictToExport.items())\n",
    "    nodedf.to_csv(\"pc2_druggene_gene_betweenness.csv\")\n",
    "    \n",
    "main()\n",
    "    \n",
    "    "
   ]
  },
  {
   "cell_type": "code",
   "execution_count": null,
   "metadata": {
    "collapsed": true
   },
   "outputs": [],
   "source": []
  }
 ],
 "metadata": {
  "kernelspec": {
   "display_name": "Python 2",
   "language": "python",
   "name": "python2"
  },
  "language_info": {
   "codemirror_mode": {
    "name": "ipython",
    "version": 2
   },
   "file_extension": ".py",
   "mimetype": "text/x-python",
   "name": "python",
   "nbconvert_exporter": "python",
   "pygments_lexer": "ipython2",
   "version": "2.7.10"
  }
 },
 "nbformat": 4,
 "nbformat_minor": 0
}
